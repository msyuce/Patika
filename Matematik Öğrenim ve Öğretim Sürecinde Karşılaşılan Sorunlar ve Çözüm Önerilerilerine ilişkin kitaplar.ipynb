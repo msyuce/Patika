{
 "cells": [
  {
   "cell_type": "code",
   "execution_count": null,
   "metadata": {},
   "outputs": [],
   "source": [
    "Matematiksel Kavram Yanılgıları Ve Çözüm Önerileri\n",
    "(Eser Sahibi): Komisyon - ISBN:9786055885311"
   ]
  },
  {
   "cell_type": "code",
   "execution_count": null,
   "metadata": {},
   "outputs": [],
   "source": [
    "Matematikte Karşılaşılan Kavram Yanılgıları ve Karşı Örnekler: Öğrenen ve Öğretenler İçin\n",
    "(Eser Sahibi):Burak Karabey - ISBN:6053209392 "
   ]
  },
  {
   "cell_type": "code",
   "execution_count": null,
   "metadata": {},
   "outputs": [],
   "source": [
    "Matematik Öğreniminde Kavram Yanılgıları ve Zorluklar\n",
    "(Eser Sahibi): Doç. Dr. Alattin Ural - ISBN:9786052963289 "
   ]
  },
  {
   "cell_type": "code",
   "execution_count": null,
   "metadata": {},
   "outputs": [],
   "source": [
    "Uygulama Örnekleriyle Matematik Öğretiminde Yeni Yaklaşımlar\n",
    "(Eser Sahibi): Komisyon - ISBN:9786257052399"
   ]
  },
  {
   "cell_type": "code",
   "execution_count": null,
   "metadata": {},
   "outputs": [],
   "source": [
    "Matematik ve Gerçek\n",
    "(Eser Sahibi): Ali Nesin - ISBN:9786055794071"
   ]
  },
  {
   "cell_type": "code",
   "execution_count": null,
   "metadata": {},
   "outputs": [],
   "source": [
    "Matematiğin Sihirli Dünyası\n",
    "(Eser Sahibi):  Arthur Benjamin - ISBN:9786059386319"
   ]
  }
 ],
 "metadata": {
  "kernelspec": {
   "display_name": "Python 3",
   "language": "python",
   "name": "python3"
  },
  "language_info": {
   "codemirror_mode": {
    "name": "ipython",
    "version": 3
   },
   "file_extension": ".py",
   "mimetype": "text/x-python",
   "name": "python",
   "nbconvert_exporter": "python",
   "pygments_lexer": "ipython3",
   "version": "3.8.3"
  }
 },
 "nbformat": 4,
 "nbformat_minor": 4
}
